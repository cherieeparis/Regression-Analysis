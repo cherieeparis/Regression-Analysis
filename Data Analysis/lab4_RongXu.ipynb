{
 "cells": [
  {
   "cell_type": "markdown",
   "id": "eec6c0f9",
   "metadata": {},
   "source": [
    "# Lab 4 Rong Xu(Cherie)"
   ]
  },
  {
   "cell_type": "code",
   "execution_count": 88,
   "id": "77932b17",
   "metadata": {},
   "outputs": [],
   "source": [
    "import pandas as pd\n",
    "import numpy as np\n",
    "import matplotlib.pyplot as plt\n",
    "import os\n",
    "import statsmodels.api as sm\n",
    "import statsmodels.formula.api as smf"
   ]
  },
  {
   "cell_type": "code",
   "execution_count": 89,
   "id": "a879f528",
   "metadata": {},
   "outputs": [
    {
     "data": {
      "text/html": [
       "<div>\n",
       "<style scoped>\n",
       "    .dataframe tbody tr th:only-of-type {\n",
       "        vertical-align: middle;\n",
       "    }\n",
       "\n",
       "    .dataframe tbody tr th {\n",
       "        vertical-align: top;\n",
       "    }\n",
       "\n",
       "    .dataframe thead th {\n",
       "        text-align: right;\n",
       "    }\n",
       "</style>\n",
       "<table border=\"1\" class=\"dataframe\">\n",
       "  <thead>\n",
       "    <tr style=\"text-align: right;\">\n",
       "      <th></th>\n",
       "      <th>vpsu</th>\n",
       "      <th>vstrat</th>\n",
       "      <th>adults</th>\n",
       "      <th>ballot</th>\n",
       "      <th>dateintv</th>\n",
       "      <th>famgen</th>\n",
       "      <th>form</th>\n",
       "      <th>formwt</th>\n",
       "      <th>gender1</th>\n",
       "      <th>hompop</th>\n",
       "      <th>...</th>\n",
       "      <th>away7</th>\n",
       "      <th>gender14</th>\n",
       "      <th>old14</th>\n",
       "      <th>relate14</th>\n",
       "      <th>relhh14</th>\n",
       "      <th>relhhd14</th>\n",
       "      <th>relsp14</th>\n",
       "      <th>where12</th>\n",
       "      <th>where6</th>\n",
       "      <th>where7</th>\n",
       "    </tr>\n",
       "  </thead>\n",
       "  <tbody>\n",
       "    <tr>\n",
       "      <th>0</th>\n",
       "      <td>1</td>\n",
       "      <td>1957</td>\n",
       "      <td>1</td>\n",
       "      <td>3</td>\n",
       "      <td>316</td>\n",
       "      <td>2</td>\n",
       "      <td>1</td>\n",
       "      <td>1</td>\n",
       "      <td>2</td>\n",
       "      <td>3</td>\n",
       "      <td>...</td>\n",
       "      <td>NaN</td>\n",
       "      <td>NaN</td>\n",
       "      <td>NaN</td>\n",
       "      <td>NaN</td>\n",
       "      <td>NaN</td>\n",
       "      <td>NaN</td>\n",
       "      <td>NaN</td>\n",
       "      <td>NaN</td>\n",
       "      <td>NaN</td>\n",
       "      <td>NaN</td>\n",
       "    </tr>\n",
       "    <tr>\n",
       "      <th>1</th>\n",
       "      <td>1</td>\n",
       "      <td>1957</td>\n",
       "      <td>2</td>\n",
       "      <td>2</td>\n",
       "      <td>630</td>\n",
       "      <td>1</td>\n",
       "      <td>2</td>\n",
       "      <td>1</td>\n",
       "      <td>2</td>\n",
       "      <td>2</td>\n",
       "      <td>...</td>\n",
       "      <td>NaN</td>\n",
       "      <td>NaN</td>\n",
       "      <td>NaN</td>\n",
       "      <td>NaN</td>\n",
       "      <td>NaN</td>\n",
       "      <td>NaN</td>\n",
       "      <td>NaN</td>\n",
       "      <td>NaN</td>\n",
       "      <td>NaN</td>\n",
       "      <td>NaN</td>\n",
       "    </tr>\n",
       "    <tr>\n",
       "      <th>2</th>\n",
       "      <td>1</td>\n",
       "      <td>1957</td>\n",
       "      <td>2</td>\n",
       "      <td>2</td>\n",
       "      <td>314</td>\n",
       "      <td>2</td>\n",
       "      <td>1</td>\n",
       "      <td>1</td>\n",
       "      <td>2</td>\n",
       "      <td>2</td>\n",
       "      <td>...</td>\n",
       "      <td>NaN</td>\n",
       "      <td>NaN</td>\n",
       "      <td>NaN</td>\n",
       "      <td>NaN</td>\n",
       "      <td>NaN</td>\n",
       "      <td>NaN</td>\n",
       "      <td>NaN</td>\n",
       "      <td>NaN</td>\n",
       "      <td>NaN</td>\n",
       "      <td>NaN</td>\n",
       "    </tr>\n",
       "    <tr>\n",
       "      <th>3</th>\n",
       "      <td>1</td>\n",
       "      <td>1957</td>\n",
       "      <td>1</td>\n",
       "      <td>1</td>\n",
       "      <td>313</td>\n",
       "      <td>1</td>\n",
       "      <td>2</td>\n",
       "      <td>1</td>\n",
       "      <td>2</td>\n",
       "      <td>1</td>\n",
       "      <td>...</td>\n",
       "      <td>NaN</td>\n",
       "      <td>NaN</td>\n",
       "      <td>NaN</td>\n",
       "      <td>NaN</td>\n",
       "      <td>NaN</td>\n",
       "      <td>NaN</td>\n",
       "      <td>NaN</td>\n",
       "      <td>NaN</td>\n",
       "      <td>NaN</td>\n",
       "      <td>NaN</td>\n",
       "    </tr>\n",
       "    <tr>\n",
       "      <th>4</th>\n",
       "      <td>1</td>\n",
       "      <td>1957</td>\n",
       "      <td>3</td>\n",
       "      <td>1</td>\n",
       "      <td>322</td>\n",
       "      <td>2</td>\n",
       "      <td>2</td>\n",
       "      <td>1</td>\n",
       "      <td>2</td>\n",
       "      <td>3</td>\n",
       "      <td>...</td>\n",
       "      <td>NaN</td>\n",
       "      <td>NaN</td>\n",
       "      <td>NaN</td>\n",
       "      <td>NaN</td>\n",
       "      <td>NaN</td>\n",
       "      <td>NaN</td>\n",
       "      <td>NaN</td>\n",
       "      <td>NaN</td>\n",
       "      <td>NaN</td>\n",
       "      <td>NaN</td>\n",
       "    </tr>\n",
       "  </tbody>\n",
       "</table>\n",
       "<p>5 rows × 1261 columns</p>\n",
       "</div>"
      ],
      "text/plain": [
       "   vpsu  vstrat  adults  ballot  dateintv  famgen  form  formwt  gender1  \\\n",
       "0     1    1957       1       3       316       2     1       1        2   \n",
       "1     1    1957       2       2       630       1     2       1        2   \n",
       "2     1    1957       2       2       314       2     1       1        2   \n",
       "3     1    1957       1       1       313       1     2       1        2   \n",
       "4     1    1957       3       1       322       2     2       1        2   \n",
       "\n",
       "   hompop  ...  away7  gender14  old14  relate14  relhh14  relhhd14  relsp14  \\\n",
       "0       3  ...    NaN       NaN    NaN       NaN      NaN       NaN      NaN   \n",
       "1       2  ...    NaN       NaN    NaN       NaN      NaN       NaN      NaN   \n",
       "2       2  ...    NaN       NaN    NaN       NaN      NaN       NaN      NaN   \n",
       "3       1  ...    NaN       NaN    NaN       NaN      NaN       NaN      NaN   \n",
       "4       3  ...    NaN       NaN    NaN       NaN      NaN       NaN      NaN   \n",
       "\n",
       "   where12  where6  where7  \n",
       "0      NaN     NaN     NaN  \n",
       "1      NaN     NaN     NaN  \n",
       "2      NaN     NaN     NaN  \n",
       "3      NaN     NaN     NaN  \n",
       "4      NaN     NaN     NaN  \n",
       "\n",
       "[5 rows x 1261 columns]"
      ]
     },
     "execution_count": 89,
     "metadata": {},
     "output_type": "execute_result"
    }
   ],
   "source": [
    "df = pd.read_csv(\"GSS.2006.csv\")\n",
    "df.head(5)"
   ]
  },
  {
   "cell_type": "markdown",
   "id": "10903615",
   "metadata": {},
   "source": [
    "# 1. Run a simple regression, with at least two Xs in it, and interpret your results. (Did the results fit your expectations? Why? Why not?)"
   ]
  },
  {
   "cell_type": "code",
   "execution_count": 90,
   "id": "f97a7900",
   "metadata": {},
   "outputs": [
    {
     "data": {
      "text/plain": [
       "count    4510.000000\n",
       "mean        1.403104\n",
       "std         0.709402\n",
       "min         1.000000\n",
       "25%         1.000000\n",
       "50%         1.000000\n",
       "75%         2.000000\n",
       "max         3.000000\n",
       "Name: race, dtype: float64"
      ]
     },
     "execution_count": 90,
     "metadata": {},
     "output_type": "execute_result"
    }
   ],
   "source": [
    "df.race.describe()"
   ]
  },
  {
   "cell_type": "code",
   "execution_count": 91,
   "id": "c6497146",
   "metadata": {},
   "outputs": [
    {
     "data": {
      "text/plain": [
       "count    4510.000000\n",
       "mean        1.271840\n",
       "std         0.444957\n",
       "min         1.000000\n",
       "25%         1.000000\n",
       "50%         1.000000\n",
       "75%         2.000000\n",
       "max         2.000000\n",
       "Name: race1, dtype: float64"
      ]
     },
     "execution_count": 91,
     "metadata": {},
     "output_type": "execute_result"
    }
   ],
   "source": [
    "conditions =[\n",
    "    (df['race'] < 2),\n",
    "    (df['race'] >1)]\n",
    "choices = [1,2]\n",
    "df['race1'] = np.select(conditions, choices, default=np.nan)\n",
    "df.race1.describe()"
   ]
  },
  {
   "cell_type": "code",
   "execution_count": 92,
   "id": "801d78c7",
   "metadata": {},
   "outputs": [
    {
     "data": {
      "text/plain": [
       "1.0    0.72816\n",
       "2.0    0.27184\n",
       "Name: race1, dtype: float64"
      ]
     },
     "execution_count": 92,
     "metadata": {},
     "output_type": "execute_result"
    }
   ],
   "source": [
    "df.race1.value_counts(normalize=True)"
   ]
  },
  {
   "cell_type": "markdown",
   "id": "4c513e5b",
   "metadata": {},
   "source": [
    "### for this question, i chose two Xs, there are:  race and father's highest educational degree. For race, i recode it and seperate it to two categories, white(1) and non-white (2), which will help us to see, in white and non-white family, how father's highest educational degree will affect their child's highest educational degree. For this question, I assume that father's degree could have positive relationship on child's degree and white family is more affected by it compared with non-white family."
   ]
  },
  {
   "cell_type": "code",
   "execution_count": 93,
   "id": "12e4442d",
   "metadata": {},
   "outputs": [
    {
     "data": {
      "text/html": [
       "<table class=\"simpletable\">\n",
       "<caption>OLS Regression Results</caption>\n",
       "<tr>\n",
       "  <th>Dep. Variable:</th>         <td>degree</td>      <th>  R-squared:         </th> <td>   0.188</td> \n",
       "</tr>\n",
       "<tr>\n",
       "  <th>Model:</th>                   <td>OLS</td>       <th>  Adj. R-squared:    </th> <td>   0.188</td> \n",
       "</tr>\n",
       "<tr>\n",
       "  <th>Method:</th>             <td>Least Squares</td>  <th>  F-statistic:       </th> <td>   273.1</td> \n",
       "</tr>\n",
       "<tr>\n",
       "  <th>Date:</th>             <td>Sat, 11 Nov 2023</td> <th>  Prob (F-statistic):</th> <td>2.16e-107</td>\n",
       "</tr>\n",
       "<tr>\n",
       "  <th>Time:</th>                 <td>23:54:07</td>     <th>  Log-Likelihood:    </th> <td> -3556.9</td> \n",
       "</tr>\n",
       "<tr>\n",
       "  <th>No. Observations:</th>      <td>  2358</td>      <th>  AIC:               </th> <td>   7120.</td> \n",
       "</tr>\n",
       "<tr>\n",
       "  <th>Df Residuals:</th>          <td>  2355</td>      <th>  BIC:               </th> <td>   7137.</td> \n",
       "</tr>\n",
       "<tr>\n",
       "  <th>Df Model:</th>              <td>     2</td>      <th>                     </th>     <td> </td>    \n",
       "</tr>\n",
       "<tr>\n",
       "  <th>Covariance Type:</th>      <td>nonrobust</td>    <th>                     </th>     <td> </td>    \n",
       "</tr>\n",
       "</table>\n",
       "<table class=\"simpletable\">\n",
       "<tr>\n",
       "      <td></td>         <th>coef</th>     <th>std err</th>      <th>t</th>      <th>P>|t|</th>  <th>[0.025</th>    <th>0.975]</th>  \n",
       "</tr>\n",
       "<tr>\n",
       "  <th>Intercept</th> <td>    1.6148</td> <td>    0.075</td> <td>   21.540</td> <td> 0.000</td> <td>    1.468</td> <td>    1.762</td>\n",
       "</tr>\n",
       "<tr>\n",
       "  <th>padeg</th>     <td>    0.3934</td> <td>    0.018</td> <td>   21.683</td> <td> 0.000</td> <td>    0.358</td> <td>    0.429</td>\n",
       "</tr>\n",
       "<tr>\n",
       "  <th>race1</th>     <td>   -0.3172</td> <td>    0.053</td> <td>   -5.935</td> <td> 0.000</td> <td>   -0.422</td> <td>   -0.212</td>\n",
       "</tr>\n",
       "</table>\n",
       "<table class=\"simpletable\">\n",
       "<tr>\n",
       "  <th>Omnibus:</th>       <td>155.218</td> <th>  Durbin-Watson:     </th> <td>   1.797</td>\n",
       "</tr>\n",
       "<tr>\n",
       "  <th>Prob(Omnibus):</th> <td> 0.000</td>  <th>  Jarque-Bera (JB):  </th> <td> 181.727</td>\n",
       "</tr>\n",
       "<tr>\n",
       "  <th>Skew:</th>          <td> 0.668</td>  <th>  Prob(JB):          </th> <td>3.45e-40</td>\n",
       "</tr>\n",
       "<tr>\n",
       "  <th>Kurtosis:</th>      <td> 2.747</td>  <th>  Cond. No.          </th> <td>    8.47</td>\n",
       "</tr>\n",
       "</table><br/><br/>Notes:<br/>[1] Standard Errors assume that the covariance matrix of the errors is correctly specified."
      ],
      "text/latex": [
       "\\begin{center}\n",
       "\\begin{tabular}{lclc}\n",
       "\\toprule\n",
       "\\textbf{Dep. Variable:}    &      degree      & \\textbf{  R-squared:         } &     0.188   \\\\\n",
       "\\textbf{Model:}            &       OLS        & \\textbf{  Adj. R-squared:    } &     0.188   \\\\\n",
       "\\textbf{Method:}           &  Least Squares   & \\textbf{  F-statistic:       } &     273.1   \\\\\n",
       "\\textbf{Date:}             & Sat, 11 Nov 2023 & \\textbf{  Prob (F-statistic):} & 2.16e-107   \\\\\n",
       "\\textbf{Time:}             &     23:54:07     & \\textbf{  Log-Likelihood:    } &   -3556.9   \\\\\n",
       "\\textbf{No. Observations:} &        2358      & \\textbf{  AIC:               } &     7120.   \\\\\n",
       "\\textbf{Df Residuals:}     &        2355      & \\textbf{  BIC:               } &     7137.   \\\\\n",
       "\\textbf{Df Model:}         &           2      & \\textbf{                     } &             \\\\\n",
       "\\textbf{Covariance Type:}  &    nonrobust     & \\textbf{                     } &             \\\\\n",
       "\\bottomrule\n",
       "\\end{tabular}\n",
       "\\begin{tabular}{lcccccc}\n",
       "                   & \\textbf{coef} & \\textbf{std err} & \\textbf{t} & \\textbf{P$> |$t$|$} & \\textbf{[0.025} & \\textbf{0.975]}  \\\\\n",
       "\\midrule\n",
       "\\textbf{Intercept} &       1.6148  &        0.075     &    21.540  &         0.000        &        1.468    &        1.762     \\\\\n",
       "\\textbf{padeg}     &       0.3934  &        0.018     &    21.683  &         0.000        &        0.358    &        0.429     \\\\\n",
       "\\textbf{race1}     &      -0.3172  &        0.053     &    -5.935  &         0.000        &       -0.422    &       -0.212     \\\\\n",
       "\\bottomrule\n",
       "\\end{tabular}\n",
       "\\begin{tabular}{lclc}\n",
       "\\textbf{Omnibus:}       & 155.218 & \\textbf{  Durbin-Watson:     } &    1.797  \\\\\n",
       "\\textbf{Prob(Omnibus):} &   0.000 & \\textbf{  Jarque-Bera (JB):  } &  181.727  \\\\\n",
       "\\textbf{Skew:}          &   0.668 & \\textbf{  Prob(JB):          } & 3.45e-40  \\\\\n",
       "\\textbf{Kurtosis:}      &   2.747 & \\textbf{  Cond. No.          } &     8.47  \\\\\n",
       "\\bottomrule\n",
       "\\end{tabular}\n",
       "%\\caption{OLS Regression Results}\n",
       "\\end{center}\n",
       "\n",
       "Notes: \\newline\n",
       " [1] Standard Errors assume that the covariance matrix of the errors is correctly specified."
      ],
      "text/plain": [
       "<class 'statsmodels.iolib.summary.Summary'>\n",
       "\"\"\"\n",
       "                            OLS Regression Results                            \n",
       "==============================================================================\n",
       "Dep. Variable:                 degree   R-squared:                       0.188\n",
       "Model:                            OLS   Adj. R-squared:                  0.188\n",
       "Method:                 Least Squares   F-statistic:                     273.1\n",
       "Date:                Sat, 11 Nov 2023   Prob (F-statistic):          2.16e-107\n",
       "Time:                        23:54:07   Log-Likelihood:                -3556.9\n",
       "No. Observations:                2358   AIC:                             7120.\n",
       "Df Residuals:                    2355   BIC:                             7137.\n",
       "Df Model:                           2                                         \n",
       "Covariance Type:            nonrobust                                         \n",
       "==============================================================================\n",
       "                 coef    std err          t      P>|t|      [0.025      0.975]\n",
       "------------------------------------------------------------------------------\n",
       "Intercept      1.6148      0.075     21.540      0.000       1.468       1.762\n",
       "padeg          0.3934      0.018     21.683      0.000       0.358       0.429\n",
       "race1         -0.3172      0.053     -5.935      0.000      -0.422      -0.212\n",
       "==============================================================================\n",
       "Omnibus:                      155.218   Durbin-Watson:                   1.797\n",
       "Prob(Omnibus):                  0.000   Jarque-Bera (JB):              181.727\n",
       "Skew:                           0.668   Prob(JB):                     3.45e-40\n",
       "Kurtosis:                       2.747   Cond. No.                         8.47\n",
       "==============================================================================\n",
       "\n",
       "Notes:\n",
       "[1] Standard Errors assume that the covariance matrix of the errors is correctly specified.\n",
       "\"\"\""
      ]
     },
     "execution_count": 93,
     "metadata": {},
     "output_type": "execute_result"
    }
   ],
   "source": [
    "lm1 = smf.ols(formula = 'degree ~ padeg + race1', data = df).fit()\n",
    "lm1.summary()"
   ]
  },
  {
   "cell_type": "markdown",
   "id": "56cf7b80",
   "metadata": {},
   "source": [
    "### From the output, the R-square is 0.188, which means 18.8% of the variation in dependent variable of child dgree is explained by the independent variables father's degree and race. In order to further proven my statement, let's also look at the other rate.\n",
    "### looking at the coeffeient, if constant the race, there is a positive relationship between degree and padeg that there is 0.3934 unit of degree increase for each one additional unit increase on padeg, with a statistically significant as pvalue is lower than 0, which means father's highest educational level has positive correlation on their child's educational degree, by raise 0.3946. looking at the t score, t=21.763(in absolute term), from the normal distribution, we could know it has a significantly low possibily to have had happen by chance. It's reasonably unlikely that I would get a coefficient this large (in absolute terms) with a small standard error (0.018) by chance. \n",
    "### If constant the padeg, there is a negative relationship between race and degree that there is 0.3172 unit of degree decrease for each one addtional unit increase on race, with a statistically significant as pvalue is lower than 0, which means compared with white group, non-white group's educational degree dropped 0.3172. looking at the t score, t=5.935(in absolute term), from the normal distribution, we could know it has a significantly low possibily to have had happen by chance. It's reasonably unlikely that I would get a coefficient this large (in absolute terms) with a small standard error (0.053) by chance.\n",
    "### The result meets my expectation that father's educational degree will positively affect their kid's educational degree. In order to determine, how the race will affect this result, i will incldue an interaction between race and father's degree. "
   ]
  },
  {
   "cell_type": "markdown",
   "id": "875665be",
   "metadata": {},
   "source": [
    "# 2. Add an interaction term to that model that you think might moderate the original relationship between X1 and X2. Explain why you think an interaction might be present and in what direction it would work. Explain your results. Did it work out? Yes? No?"
   ]
  },
  {
   "cell_type": "code",
   "execution_count": 94,
   "id": "5280670d",
   "metadata": {},
   "outputs": [
    {
     "data": {
      "text/html": [
       "<table class=\"simpletable\">\n",
       "<caption>OLS Regression Results</caption>\n",
       "<tr>\n",
       "  <th>Dep. Variable:</th>         <td>degree</td>      <th>  R-squared:         </th> <td>   0.191</td> \n",
       "</tr>\n",
       "<tr>\n",
       "  <th>Model:</th>                   <td>OLS</td>       <th>  Adj. R-squared:    </th> <td>   0.190</td> \n",
       "</tr>\n",
       "<tr>\n",
       "  <th>Method:</th>             <td>Least Squares</td>  <th>  F-statistic:       </th> <td>   185.2</td> \n",
       "</tr>\n",
       "<tr>\n",
       "  <th>Date:</th>             <td>Sat, 11 Nov 2023</td> <th>  Prob (F-statistic):</th> <td>8.47e-108</td>\n",
       "</tr>\n",
       "<tr>\n",
       "  <th>Time:</th>                 <td>23:54:07</td>     <th>  Log-Likelihood:    </th> <td> -3553.0</td> \n",
       "</tr>\n",
       "<tr>\n",
       "  <th>No. Observations:</th>      <td>  2358</td>      <th>  AIC:               </th> <td>   7114.</td> \n",
       "</tr>\n",
       "<tr>\n",
       "  <th>Df Residuals:</th>          <td>  2354</td>      <th>  BIC:               </th> <td>   7137.</td> \n",
       "</tr>\n",
       "<tr>\n",
       "  <th>Df Model:</th>              <td>     3</td>      <th>                     </th>     <td> </td>    \n",
       "</tr>\n",
       "<tr>\n",
       "  <th>Covariance Type:</th>      <td>nonrobust</td>    <th>                     </th>     <td> </td>    \n",
       "</tr>\n",
       "</table>\n",
       "<table class=\"simpletable\">\n",
       "<tr>\n",
       "       <td></td>          <th>coef</th>     <th>std err</th>      <th>t</th>      <th>P>|t|</th>  <th>[0.025</th>    <th>0.975]</th>  \n",
       "</tr>\n",
       "<tr>\n",
       "  <th>Intercept</th>   <td>    1.7593</td> <td>    0.091</td> <td>   19.316</td> <td> 0.000</td> <td>    1.581</td> <td>    1.938</td>\n",
       "</tr>\n",
       "<tr>\n",
       "  <th>padeg</th>       <td>    0.2426</td> <td>    0.057</td> <td>    4.249</td> <td> 0.000</td> <td>    0.131</td> <td>    0.355</td>\n",
       "</tr>\n",
       "<tr>\n",
       "  <th>race1</th>       <td>   -0.4310</td> <td>    0.067</td> <td>   -6.412</td> <td> 0.000</td> <td>   -0.563</td> <td>   -0.299</td>\n",
       "</tr>\n",
       "<tr>\n",
       "  <th>padeg:race1</th> <td>    0.1253</td> <td>    0.045</td> <td>    2.785</td> <td> 0.005</td> <td>    0.037</td> <td>    0.213</td>\n",
       "</tr>\n",
       "</table>\n",
       "<table class=\"simpletable\">\n",
       "<tr>\n",
       "  <th>Omnibus:</th>       <td>156.216</td> <th>  Durbin-Watson:     </th> <td>   1.802</td>\n",
       "</tr>\n",
       "<tr>\n",
       "  <th>Prob(Omnibus):</th> <td> 0.000</td>  <th>  Jarque-Bera (JB):  </th> <td> 182.099</td>\n",
       "</tr>\n",
       "<tr>\n",
       "  <th>Skew:</th>          <td> 0.667</td>  <th>  Prob(JB):          </th> <td>2.87e-40</td>\n",
       "</tr>\n",
       "<tr>\n",
       "  <th>Kurtosis:</th>      <td> 2.729</td>  <th>  Cond. No.          </th> <td>    15.7</td>\n",
       "</tr>\n",
       "</table><br/><br/>Notes:<br/>[1] Standard Errors assume that the covariance matrix of the errors is correctly specified."
      ],
      "text/latex": [
       "\\begin{center}\n",
       "\\begin{tabular}{lclc}\n",
       "\\toprule\n",
       "\\textbf{Dep. Variable:}    &      degree      & \\textbf{  R-squared:         } &     0.191   \\\\\n",
       "\\textbf{Model:}            &       OLS        & \\textbf{  Adj. R-squared:    } &     0.190   \\\\\n",
       "\\textbf{Method:}           &  Least Squares   & \\textbf{  F-statistic:       } &     185.2   \\\\\n",
       "\\textbf{Date:}             & Sat, 11 Nov 2023 & \\textbf{  Prob (F-statistic):} & 8.47e-108   \\\\\n",
       "\\textbf{Time:}             &     23:54:07     & \\textbf{  Log-Likelihood:    } &   -3553.0   \\\\\n",
       "\\textbf{No. Observations:} &        2358      & \\textbf{  AIC:               } &     7114.   \\\\\n",
       "\\textbf{Df Residuals:}     &        2354      & \\textbf{  BIC:               } &     7137.   \\\\\n",
       "\\textbf{Df Model:}         &           3      & \\textbf{                     } &             \\\\\n",
       "\\textbf{Covariance Type:}  &    nonrobust     & \\textbf{                     } &             \\\\\n",
       "\\bottomrule\n",
       "\\end{tabular}\n",
       "\\begin{tabular}{lcccccc}\n",
       "                     & \\textbf{coef} & \\textbf{std err} & \\textbf{t} & \\textbf{P$> |$t$|$} & \\textbf{[0.025} & \\textbf{0.975]}  \\\\\n",
       "\\midrule\n",
       "\\textbf{Intercept}   &       1.7593  &        0.091     &    19.316  &         0.000        &        1.581    &        1.938     \\\\\n",
       "\\textbf{padeg}       &       0.2426  &        0.057     &     4.249  &         0.000        &        0.131    &        0.355     \\\\\n",
       "\\textbf{race1}       &      -0.4310  &        0.067     &    -6.412  &         0.000        &       -0.563    &       -0.299     \\\\\n",
       "\\textbf{padeg:race1} &       0.1253  &        0.045     &     2.785  &         0.005        &        0.037    &        0.213     \\\\\n",
       "\\bottomrule\n",
       "\\end{tabular}\n",
       "\\begin{tabular}{lclc}\n",
       "\\textbf{Omnibus:}       & 156.216 & \\textbf{  Durbin-Watson:     } &    1.802  \\\\\n",
       "\\textbf{Prob(Omnibus):} &   0.000 & \\textbf{  Jarque-Bera (JB):  } &  182.099  \\\\\n",
       "\\textbf{Skew:}          &   0.667 & \\textbf{  Prob(JB):          } & 2.87e-40  \\\\\n",
       "\\textbf{Kurtosis:}      &   2.729 & \\textbf{  Cond. No.          } &     15.7  \\\\\n",
       "\\bottomrule\n",
       "\\end{tabular}\n",
       "%\\caption{OLS Regression Results}\n",
       "\\end{center}\n",
       "\n",
       "Notes: \\newline\n",
       " [1] Standard Errors assume that the covariance matrix of the errors is correctly specified."
      ],
      "text/plain": [
       "<class 'statsmodels.iolib.summary.Summary'>\n",
       "\"\"\"\n",
       "                            OLS Regression Results                            \n",
       "==============================================================================\n",
       "Dep. Variable:                 degree   R-squared:                       0.191\n",
       "Model:                            OLS   Adj. R-squared:                  0.190\n",
       "Method:                 Least Squares   F-statistic:                     185.2\n",
       "Date:                Sat, 11 Nov 2023   Prob (F-statistic):          8.47e-108\n",
       "Time:                        23:54:07   Log-Likelihood:                -3553.0\n",
       "No. Observations:                2358   AIC:                             7114.\n",
       "Df Residuals:                    2354   BIC:                             7137.\n",
       "Df Model:                           3                                         \n",
       "Covariance Type:            nonrobust                                         \n",
       "===============================================================================\n",
       "                  coef    std err          t      P>|t|      [0.025      0.975]\n",
       "-------------------------------------------------------------------------------\n",
       "Intercept       1.7593      0.091     19.316      0.000       1.581       1.938\n",
       "padeg           0.2426      0.057      4.249      0.000       0.131       0.355\n",
       "race1          -0.4310      0.067     -6.412      0.000      -0.563      -0.299\n",
       "padeg:race1     0.1253      0.045      2.785      0.005       0.037       0.213\n",
       "==============================================================================\n",
       "Omnibus:                      156.216   Durbin-Watson:                   1.802\n",
       "Prob(Omnibus):                  0.000   Jarque-Bera (JB):              182.099\n",
       "Skew:                           0.667   Prob(JB):                     2.87e-40\n",
       "Kurtosis:                       2.729   Cond. No.                         15.7\n",
       "==============================================================================\n",
       "\n",
       "Notes:\n",
       "[1] Standard Errors assume that the covariance matrix of the errors is correctly specified.\n",
       "\"\"\""
      ]
     },
     "execution_count": 94,
     "metadata": {},
     "output_type": "execute_result"
    }
   ],
   "source": [
    "lm2 = smf.ols(formula = 'degree ~ padeg*race1', data = df).fit()\n",
    "lm2.summary()"
   ]
  },
  {
   "cell_type": "markdown",
   "id": "6a7b5b7a",
   "metadata": {},
   "source": [
    "### race1 present white group. This interaction term represents the difference in the father's degree effect between white family group and non-white family group. For white family group, they initially have an average degree value of 1.7593.  Non-white family group have a 0.431 unites lower on the respondent's degree than white family group in terms of their father's degree.\n",
    "### In padeg:race1, its coefficient is 0.1253, which means with father's degress goes up, white group family of their kids' degree raise up by 0.1253 unit, in relative of non-white group family, at a statistically significant level. In other word,  the respondents degree for white family group increased by 0.2426 with their father's degree, while for non while family group, their kids(for respondents) degree is decreased  by 0.1173  (0.2426-0.1253) with their father's degree. \n",
    "### The interaction is present and it work and they are at statistically significant level. Also the R-square is increase from 0.188 to 0.191, which increase the possibility of how the dependent variable is explained by the independent variable. R-square =0.191, means we are only able to explain 19.1% of the total variance using paedu and race. "
   ]
  },
  {
   "cell_type": "markdown",
   "id": "b7f2be63",
   "metadata": {},
   "source": [
    "# 3. Extra Credit: Plot the relationship found in the interaction."
   ]
  },
  {
   "cell_type": "code",
   "execution_count": 95,
   "id": "2140c712",
   "metadata": {
    "scrolled": true
   },
   "outputs": [
    {
     "data": {
      "image/png": "[encoded data removed]",
      "text/plain": [
       "<Figure size 572.125x500 with 1 Axes>"
      ]
     },
     "metadata": {},
     "output_type": "display_data"
    }
   ],
   "source": [
    "import seaborn as sns\n",
    "import matplotlib.pyplot as plt\n",
    "import pandas as pd\n",
    "\n",
    "sns.lmplot(x='padeg', y='degree', hue='race1', data=df, ci=None)\n",
    "plt.show()"
   ]
  },
  {
   "cell_type": "markdown",
   "id": "f0c2e197",
   "metadata": {},
   "source": [
    "### in this graph, 1- white, 2-non-white, we can see white respondent's degree starts initially higher than non-white degree by not looking at their father's degree.  "
   ]
  },
  {
   "cell_type": "code",
   "execution_count": null,
   "id": "e771a647",
   "metadata": {},
   "outputs": [],
   "source": []
  },
  {
   "cell_type": "code",
   "execution_count": null,
   "id": "da705e3a",
   "metadata": {},
   "outputs": [],
   "source": []
  }
 ],
 "metadata": {
  "kernelspec": {
   "display_name": "Python 3 (ipykernel)",
   "language": "python",
   "name": "python3"
  },
  "language_info": {
   "codemirror_mode": {
    "name": "ipython",
    "version": 3
   },
   "file_extension": ".py",
   "mimetype": "text/x-python",
   "name": "python",
   "nbconvert_exporter": "python",
   "pygments_lexer": "ipython3",
   "version": "3.11.4"
  }
 },
 "nbformat": 4,
 "nbformat_minor": 5
}

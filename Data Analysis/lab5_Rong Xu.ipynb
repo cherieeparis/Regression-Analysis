{
 "cells": [
  {
   "cell_type": "markdown",
   "id": "8e0098d8",
   "metadata": {},
   "source": [
    "# Lab 5 Rong Xu"
   ]
  },
  {
   "cell_type": "code",
   "execution_count": 39,
   "id": "bd93e30b",
   "metadata": {},
   "outputs": [],
   "source": [
    "import pandas as pd\n",
    "import numpy as np\n",
    "import matplotlib.pyplot as plt\n",
    "import os\n",
    "import statsmodels.api as sm\n",
    "import statsmodels.formula.api as smf"
   ]
  },
  {
   "cell_type": "code",
   "execution_count": 40,
   "id": "a33b5e5f",
   "metadata": {},
   "outputs": [
    {
     "data": {
      "text/html": [
       "<div>\n",
       "<style scoped>\n",
       "    .dataframe tbody tr th:only-of-type {\n",
       "        vertical-align: middle;\n",
       "    }\n",
       "\n",
       "    .dataframe tbody tr th {\n",
       "        vertical-align: top;\n",
       "    }\n",
       "\n",
       "    .dataframe thead th {\n",
       "        text-align: right;\n",
       "    }\n",
       "</style>\n",
       "<table border=\"1\" class=\"dataframe\">\n",
       "  <thead>\n",
       "    <tr style=\"text-align: right;\">\n",
       "      <th></th>\n",
       "      <th>vpsu</th>\n",
       "      <th>vstrat</th>\n",
       "      <th>adults</th>\n",
       "      <th>ballot</th>\n",
       "      <th>dateintv</th>\n",
       "      <th>famgen</th>\n",
       "      <th>form</th>\n",
       "      <th>formwt</th>\n",
       "      <th>gender1</th>\n",
       "      <th>hompop</th>\n",
       "      <th>...</th>\n",
       "      <th>away7</th>\n",
       "      <th>gender14</th>\n",
       "      <th>old14</th>\n",
       "      <th>relate14</th>\n",
       "      <th>relhh14</th>\n",
       "      <th>relhhd14</th>\n",
       "      <th>relsp14</th>\n",
       "      <th>where12</th>\n",
       "      <th>where6</th>\n",
       "      <th>where7</th>\n",
       "    </tr>\n",
       "  </thead>\n",
       "  <tbody>\n",
       "    <tr>\n",
       "      <th>0</th>\n",
       "      <td>1</td>\n",
       "      <td>1957</td>\n",
       "      <td>1</td>\n",
       "      <td>3</td>\n",
       "      <td>316</td>\n",
       "      <td>2</td>\n",
       "      <td>1</td>\n",
       "      <td>1</td>\n",
       "      <td>2</td>\n",
       "      <td>3</td>\n",
       "      <td>...</td>\n",
       "      <td>NaN</td>\n",
       "      <td>NaN</td>\n",
       "      <td>NaN</td>\n",
       "      <td>NaN</td>\n",
       "      <td>NaN</td>\n",
       "      <td>NaN</td>\n",
       "      <td>NaN</td>\n",
       "      <td>NaN</td>\n",
       "      <td>NaN</td>\n",
       "      <td>NaN</td>\n",
       "    </tr>\n",
       "    <tr>\n",
       "      <th>1</th>\n",
       "      <td>1</td>\n",
       "      <td>1957</td>\n",
       "      <td>2</td>\n",
       "      <td>2</td>\n",
       "      <td>630</td>\n",
       "      <td>1</td>\n",
       "      <td>2</td>\n",
       "      <td>1</td>\n",
       "      <td>2</td>\n",
       "      <td>2</td>\n",
       "      <td>...</td>\n",
       "      <td>NaN</td>\n",
       "      <td>NaN</td>\n",
       "      <td>NaN</td>\n",
       "      <td>NaN</td>\n",
       "      <td>NaN</td>\n",
       "      <td>NaN</td>\n",
       "      <td>NaN</td>\n",
       "      <td>NaN</td>\n",
       "      <td>NaN</td>\n",
       "      <td>NaN</td>\n",
       "    </tr>\n",
       "    <tr>\n",
       "      <th>2</th>\n",
       "      <td>1</td>\n",
       "      <td>1957</td>\n",
       "      <td>2</td>\n",
       "      <td>2</td>\n",
       "      <td>314</td>\n",
       "      <td>2</td>\n",
       "      <td>1</td>\n",
       "      <td>1</td>\n",
       "      <td>2</td>\n",
       "      <td>2</td>\n",
       "      <td>...</td>\n",
       "      <td>NaN</td>\n",
       "      <td>NaN</td>\n",
       "      <td>NaN</td>\n",
       "      <td>NaN</td>\n",
       "      <td>NaN</td>\n",
       "      <td>NaN</td>\n",
       "      <td>NaN</td>\n",
       "      <td>NaN</td>\n",
       "      <td>NaN</td>\n",
       "      <td>NaN</td>\n",
       "    </tr>\n",
       "    <tr>\n",
       "      <th>3</th>\n",
       "      <td>1</td>\n",
       "      <td>1957</td>\n",
       "      <td>1</td>\n",
       "      <td>1</td>\n",
       "      <td>313</td>\n",
       "      <td>1</td>\n",
       "      <td>2</td>\n",
       "      <td>1</td>\n",
       "      <td>2</td>\n",
       "      <td>1</td>\n",
       "      <td>...</td>\n",
       "      <td>NaN</td>\n",
       "      <td>NaN</td>\n",
       "      <td>NaN</td>\n",
       "      <td>NaN</td>\n",
       "      <td>NaN</td>\n",
       "      <td>NaN</td>\n",
       "      <td>NaN</td>\n",
       "      <td>NaN</td>\n",
       "      <td>NaN</td>\n",
       "      <td>NaN</td>\n",
       "    </tr>\n",
       "    <tr>\n",
       "      <th>4</th>\n",
       "      <td>1</td>\n",
       "      <td>1957</td>\n",
       "      <td>3</td>\n",
       "      <td>1</td>\n",
       "      <td>322</td>\n",
       "      <td>2</td>\n",
       "      <td>2</td>\n",
       "      <td>1</td>\n",
       "      <td>2</td>\n",
       "      <td>3</td>\n",
       "      <td>...</td>\n",
       "      <td>NaN</td>\n",
       "      <td>NaN</td>\n",
       "      <td>NaN</td>\n",
       "      <td>NaN</td>\n",
       "      <td>NaN</td>\n",
       "      <td>NaN</td>\n",
       "      <td>NaN</td>\n",
       "      <td>NaN</td>\n",
       "      <td>NaN</td>\n",
       "      <td>NaN</td>\n",
       "    </tr>\n",
       "  </tbody>\n",
       "</table>\n",
       "<p>5 rows × 1261 columns</p>\n",
       "</div>"
      ],
      "text/plain": [
       "   vpsu  vstrat  adults  ballot  dateintv  famgen  form  formwt  gender1  \\\n",
       "0     1    1957       1       3       316       2     1       1        2   \n",
       "1     1    1957       2       2       630       1     2       1        2   \n",
       "2     1    1957       2       2       314       2     1       1        2   \n",
       "3     1    1957       1       1       313       1     2       1        2   \n",
       "4     1    1957       3       1       322       2     2       1        2   \n",
       "\n",
       "   hompop  ...  away7  gender14  old14  relate14  relhh14  relhhd14  relsp14  \\\n",
       "0       3  ...    NaN       NaN    NaN       NaN      NaN       NaN      NaN   \n",
       "1       2  ...    NaN       NaN    NaN       NaN      NaN       NaN      NaN   \n",
       "2       2  ...    NaN       NaN    NaN       NaN      NaN       NaN      NaN   \n",
       "3       1  ...    NaN       NaN    NaN       NaN      NaN       NaN      NaN   \n",
       "4       3  ...    NaN       NaN    NaN       NaN      NaN       NaN      NaN   \n",
       "\n",
       "   where12  where6  where7  \n",
       "0      NaN     NaN     NaN  \n",
       "1      NaN     NaN     NaN  \n",
       "2      NaN     NaN     NaN  \n",
       "3      NaN     NaN     NaN  \n",
       "4      NaN     NaN     NaN  \n",
       "\n",
       "[5 rows x 1261 columns]"
      ]
     },
     "execution_count": 40,
     "metadata": {},
     "output_type": "execute_result"
    }
   ],
   "source": [
    "df = pd.read_csv(\"GSS.2006.csv\")\n",
    "df.head(5)"
   ]
  },
  {
   "cell_type": "markdown",
   "id": "76dab729",
   "metadata": {},
   "source": [
    "# 1. Run a multiple linear probability model (have at least 2 Xs in the model). Tell me how you think your independent variables will affect your dependent variable. Interpret your results. Were your expectations correct? Why or why not?"
   ]
  },
  {
   "cell_type": "markdown",
   "id": "adb76d47",
   "metadata": {},
   "source": [
    "### for this question, i want to know how different between married and unmarried people behave on attending church. For attend status, i recode to 1 as offen attend religious service at least every week or even more, 0 as not often. My expectation is that people who are in married status are more likely to attend religious service than someone who is not in married status and someone who consider themselves as a very religious person will also attend religious service oftenly than someone who are not think themseleve is a very religious person. \n",
    "\n",
    "How often do you attend religious services? (ATTEND)\n",
    "\n",
    "0) Never\t1020\t22.6\n",
    "1) Less than once a year\t302\t6.7\n",
    "2) About once or twice a year\t571\t12.7\n",
    "3) Several times a year\t502\t11.1\n",
    "4) About once a month\t308\t6.8\n",
    "5) 2-3 times a month\t380\t8.4\n",
    "6) Nearly every week\t240\t5.3\n",
    "7) Every week\t839\t18.6\n",
    "8) Several times a week\n",
    "\n",
    "Are you currently -- married, widowed, divorced, separated, or have you never been married? (MARITAL)\n",
    "\n",
    "1) Married\t2170\t48.1\n",
    "2) Widowed\t366\t8.1\n",
    "3) Divorced\t732\t16.2\n",
    "4) Separated\t156\t3.5\n",
    "5) Never married\n",
    "\n",
    "To what extent do you consider yourself a religious person? Are you . . . (RELPERSN) from 1 very religious to 4 not at all\n",
    "1) Very religious\t572\t19.1\n",
    "2) Moderately religious\t1285\t42.9\n",
    "3) Slightly religious\t669\t22.4\n",
    "4) Not religious at all"
   ]
  },
  {
   "cell_type": "code",
   "execution_count": 41,
   "id": "4b2a87c5",
   "metadata": {},
   "outputs": [
    {
     "data": {
      "text/plain": [
       "count    4491.000000\n",
       "mean        0.260076\n",
       "std         0.438725\n",
       "min         0.000000\n",
       "25%         0.000000\n",
       "50%         0.000000\n",
       "75%         1.000000\n",
       "max         1.000000\n",
       "Name: attend1, dtype: float64"
      ]
     },
     "execution_count": 41,
     "metadata": {},
     "output_type": "execute_result"
    }
   ],
   "source": [
    "#recode attend\n",
    "conditions = [\n",
    "    (df['attend'] < 7),\n",
    "    (df['attend'] > 6)]\n",
    "choices = [0,1] # 0 means not often, 1 means offen that goes at least every week or even more\n",
    "df['attend1'] = np.select(conditions, choices, default=np.nan)\n",
    "df.attend1.describe()"
   ]
  },
  {
   "cell_type": "code",
   "execution_count": 42,
   "id": "30a199e3",
   "metadata": {},
   "outputs": [
    {
     "data": {
      "text/plain": [
       "0.0    0.739924\n",
       "1.0    0.260076\n",
       "Name: attend1, dtype: float64"
      ]
     },
     "execution_count": 42,
     "metadata": {},
     "output_type": "execute_result"
    }
   ],
   "source": [
    "df.attend1.value_counts(normalize=True)"
   ]
  },
  {
   "cell_type": "code",
   "execution_count": 43,
   "id": "64143671",
   "metadata": {},
   "outputs": [
    {
     "data": {
      "text/html": [
       "<table class=\"simpletable\">\n",
       "<caption>OLS Regression Results</caption>\n",
       "<tr>\n",
       "  <th>Dep. Variable:</th>         <td>attend1</td>     <th>  R-squared:         </th> <td>   0.195</td> \n",
       "</tr>\n",
       "<tr>\n",
       "  <th>Model:</th>                   <td>OLS</td>       <th>  Adj. R-squared:    </th> <td>   0.195</td> \n",
       "</tr>\n",
       "<tr>\n",
       "  <th>Method:</th>             <td>Least Squares</td>  <th>  F-statistic:       </th> <td>   359.6</td> \n",
       "</tr>\n",
       "<tr>\n",
       "  <th>Date:</th>             <td>Sun, 26 Nov 2023</td> <th>  Prob (F-statistic):</th> <td>1.56e-140</td>\n",
       "</tr>\n",
       "<tr>\n",
       "  <th>Time:</th>                 <td>01:31:01</td>     <th>  Log-Likelihood:    </th> <td> -1444.8</td> \n",
       "</tr>\n",
       "<tr>\n",
       "  <th>No. Observations:</th>      <td>  2963</td>      <th>  AIC:               </th> <td>   2896.</td> \n",
       "</tr>\n",
       "<tr>\n",
       "  <th>Df Residuals:</th>          <td>  2960</td>      <th>  BIC:               </th> <td>   2914.</td> \n",
       "</tr>\n",
       "<tr>\n",
       "  <th>Df Model:</th>              <td>     2</td>      <th>                     </th>     <td> </td>    \n",
       "</tr>\n",
       "<tr>\n",
       "  <th>Covariance Type:</th>      <td>nonrobust</td>    <th>                     </th>     <td> </td>    \n",
       "</tr>\n",
       "</table>\n",
       "<table class=\"simpletable\">\n",
       "<tr>\n",
       "      <td></td>         <th>coef</th>     <th>std err</th>      <th>t</th>      <th>P>|t|</th>  <th>[0.025</th>    <th>0.975]</th>  \n",
       "</tr>\n",
       "<tr>\n",
       "  <th>Intercept</th> <td>    0.7663</td> <td>    0.021</td> <td>   36.722</td> <td> 0.000</td> <td>    0.725</td> <td>    0.807</td>\n",
       "</tr>\n",
       "<tr>\n",
       "  <th>marital</th>   <td>   -0.0190</td> <td>    0.004</td> <td>   -4.288</td> <td> 0.000</td> <td>   -0.028</td> <td>   -0.010</td>\n",
       "</tr>\n",
       "<tr>\n",
       "  <th>relpersn</th>  <td>   -0.1963</td> <td>    0.008</td> <td>  -25.481</td> <td> 0.000</td> <td>   -0.211</td> <td>   -0.181</td>\n",
       "</tr>\n",
       "</table>\n",
       "<table class=\"simpletable\">\n",
       "<tr>\n",
       "  <th>Omnibus:</th>       <td>348.907</td> <th>  Durbin-Watson:     </th> <td>   1.972</td>\n",
       "</tr>\n",
       "<tr>\n",
       "  <th>Prob(Omnibus):</th> <td> 0.000</td>  <th>  Jarque-Bera (JB):  </th> <td> 309.367</td>\n",
       "</tr>\n",
       "<tr>\n",
       "  <th>Skew:</th>          <td> 0.714</td>  <th>  Prob(JB):          </th> <td>6.64e-68</td>\n",
       "</tr>\n",
       "<tr>\n",
       "  <th>Kurtosis:</th>      <td> 2.317</td>  <th>  Cond. No.          </th> <td>    11.5</td>\n",
       "</tr>\n",
       "</table><br/><br/>Notes:<br/>[1] Standard Errors assume that the covariance matrix of the errors is correctly specified."
      ],
      "text/latex": [
       "\\begin{center}\n",
       "\\begin{tabular}{lclc}\n",
       "\\toprule\n",
       "\\textbf{Dep. Variable:}    &     attend1      & \\textbf{  R-squared:         } &     0.195   \\\\\n",
       "\\textbf{Model:}            &       OLS        & \\textbf{  Adj. R-squared:    } &     0.195   \\\\\n",
       "\\textbf{Method:}           &  Least Squares   & \\textbf{  F-statistic:       } &     359.6   \\\\\n",
       "\\textbf{Date:}             & Sun, 26 Nov 2023 & \\textbf{  Prob (F-statistic):} & 1.56e-140   \\\\\n",
       "\\textbf{Time:}             &     01:31:01     & \\textbf{  Log-Likelihood:    } &   -1444.8   \\\\\n",
       "\\textbf{No. Observations:} &        2963      & \\textbf{  AIC:               } &     2896.   \\\\\n",
       "\\textbf{Df Residuals:}     &        2960      & \\textbf{  BIC:               } &     2914.   \\\\\n",
       "\\textbf{Df Model:}         &           2      & \\textbf{                     } &             \\\\\n",
       "\\textbf{Covariance Type:}  &    nonrobust     & \\textbf{                     } &             \\\\\n",
       "\\bottomrule\n",
       "\\end{tabular}\n",
       "\\begin{tabular}{lcccccc}\n",
       "                   & \\textbf{coef} & \\textbf{std err} & \\textbf{t} & \\textbf{P$> |$t$|$} & \\textbf{[0.025} & \\textbf{0.975]}  \\\\\n",
       "\\midrule\n",
       "\\textbf{Intercept} &       0.7663  &        0.021     &    36.722  &         0.000        &        0.725    &        0.807     \\\\\n",
       "\\textbf{marital}   &      -0.0190  &        0.004     &    -4.288  &         0.000        &       -0.028    &       -0.010     \\\\\n",
       "\\textbf{relpersn}  &      -0.1963  &        0.008     &   -25.481  &         0.000        &       -0.211    &       -0.181     \\\\\n",
       "\\bottomrule\n",
       "\\end{tabular}\n",
       "\\begin{tabular}{lclc}\n",
       "\\textbf{Omnibus:}       & 348.907 & \\textbf{  Durbin-Watson:     } &    1.972  \\\\\n",
       "\\textbf{Prob(Omnibus):} &   0.000 & \\textbf{  Jarque-Bera (JB):  } &  309.367  \\\\\n",
       "\\textbf{Skew:}          &   0.714 & \\textbf{  Prob(JB):          } & 6.64e-68  \\\\\n",
       "\\textbf{Kurtosis:}      &   2.317 & \\textbf{  Cond. No.          } &     11.5  \\\\\n",
       "\\bottomrule\n",
       "\\end{tabular}\n",
       "%\\caption{OLS Regression Results}\n",
       "\\end{center}\n",
       "\n",
       "Notes: \\newline\n",
       " [1] Standard Errors assume that the covariance matrix of the errors is correctly specified."
      ],
      "text/plain": [
       "<class 'statsmodels.iolib.summary.Summary'>\n",
       "\"\"\"\n",
       "                            OLS Regression Results                            \n",
       "==============================================================================\n",
       "Dep. Variable:                attend1   R-squared:                       0.195\n",
       "Model:                            OLS   Adj. R-squared:                  0.195\n",
       "Method:                 Least Squares   F-statistic:                     359.6\n",
       "Date:                Sun, 26 Nov 2023   Prob (F-statistic):          1.56e-140\n",
       "Time:                        01:31:01   Log-Likelihood:                -1444.8\n",
       "No. Observations:                2963   AIC:                             2896.\n",
       "Df Residuals:                    2960   BIC:                             2914.\n",
       "Df Model:                           2                                         \n",
       "Covariance Type:            nonrobust                                         \n",
       "==============================================================================\n",
       "                 coef    std err          t      P>|t|      [0.025      0.975]\n",
       "------------------------------------------------------------------------------\n",
       "Intercept      0.7663      0.021     36.722      0.000       0.725       0.807\n",
       "marital       -0.0190      0.004     -4.288      0.000      -0.028      -0.010\n",
       "relpersn      -0.1963      0.008    -25.481      0.000      -0.211      -0.181\n",
       "==============================================================================\n",
       "Omnibus:                      348.907   Durbin-Watson:                   1.972\n",
       "Prob(Omnibus):                  0.000   Jarque-Bera (JB):              309.367\n",
       "Skew:                           0.714   Prob(JB):                     6.64e-68\n",
       "Kurtosis:                       2.317   Cond. No.                         11.5\n",
       "==============================================================================\n",
       "\n",
       "Notes:\n",
       "[1] Standard Errors assume that the covariance matrix of the errors is correctly specified.\n",
       "\"\"\""
      ]
     },
     "execution_count": 43,
     "metadata": {},
     "output_type": "execute_result"
    }
   ],
   "source": [
    "lm1 = smf.ols(formula = 'attend1 ~ marital + relpersn', data = df).fit()\n",
    "# 1 means married and later than are different status but not in married\n",
    "lm1.summary()"
   ]
  },
  {
   "cell_type": "markdown",
   "id": "ea1214f2",
   "metadata": {},
   "source": [
    "### from this LPM model, I am trying to see how marriage status and personal evaluation on religious will affect their actual behavior of attend religious service. R-square = 0.195, it shown that about 19.5% of the variance in attend1 is explained by the independent variables 'marital' and 'relpersn'. Constant the marital, there is negative correlation between attend1 and relpersn. If people more tend to consider themsleves not being religious, they are more likely to have statistcally significant low frequency on attending religious service, reducing by 0.1963 unit, in absolute term. Constant the relpersn, there is negative correlation between attend1 and marital. If people more tend to be a non-married status, they are more likely to have statistcally significant low frequency on attending religious service, reducing by 0.019 unit, in absolute term. In conclusion, this regression model confirm my expectation that people who are married will more likley attend religious service also people who consider themselves as a very religious person will more likley attend religious service than someone who are not. "
   ]
  },
  {
   "cell_type": "markdown",
   "id": "b8c351d2",
   "metadata": {},
   "source": [
    "# 2. Run a multiple (binary) logistic model. (It can be the same as the above LPM or a new model.) If it is a new model, tell me how you think your independent variables will affect your dependent variable. Interpret your results in the logit scale. Were your expectations correct? Why or why not?"
   ]
  },
  {
   "cell_type": "code",
   "execution_count": 44,
   "id": "d1403479",
   "metadata": {},
   "outputs": [
    {
     "name": "stdout",
     "output_type": "stream",
     "text": [
      "Optimization terminated successfully.\n",
      "         Current function value: 0.457163\n",
      "         Iterations 7\n"
     ]
    },
    {
     "data": {
      "text/html": [
       "<table class=\"simpletable\">\n",
       "<caption>Logit Regression Results</caption>\n",
       "<tr>\n",
       "  <th>Dep. Variable:</th>        <td>attend1</td>     <th>  No. Observations:  </th>   <td>  2963</td>  \n",
       "</tr>\n",
       "<tr>\n",
       "  <th>Model:</th>                 <td>Logit</td>      <th>  Df Residuals:      </th>   <td>  2960</td>  \n",
       "</tr>\n",
       "<tr>\n",
       "  <th>Method:</th>                 <td>MLE</td>       <th>  Df Model:          </th>   <td>     2</td>  \n",
       "</tr>\n",
       "<tr>\n",
       "  <th>Date:</th>            <td>Sun, 26 Nov 2023</td> <th>  Pseudo R-squ.:     </th>   <td>0.2040</td>  \n",
       "</tr>\n",
       "<tr>\n",
       "  <th>Time:</th>                <td>01:31:05</td>     <th>  Log-Likelihood:    </th>  <td> -1354.6</td> \n",
       "</tr>\n",
       "<tr>\n",
       "  <th>converged:</th>             <td>True</td>       <th>  LL-Null:           </th>  <td> -1701.7</td> \n",
       "</tr>\n",
       "<tr>\n",
       "  <th>Covariance Type:</th>     <td>nonrobust</td>    <th>  LLR p-value:       </th> <td>1.684e-151</td>\n",
       "</tr>\n",
       "</table>\n",
       "<table class=\"simpletable\">\n",
       "<tr>\n",
       "      <td></td>         <th>coef</th>     <th>std err</th>      <th>z</th>      <th>P>|z|</th>  <th>[0.025</th>    <th>0.975]</th>  \n",
       "</tr>\n",
       "<tr>\n",
       "  <th>Intercept</th> <td>    2.2655</td> <td>    0.153</td> <td>   14.823</td> <td> 0.000</td> <td>    1.966</td> <td>    2.565</td>\n",
       "</tr>\n",
       "<tr>\n",
       "  <th>marital</th>   <td>   -0.1430</td> <td>    0.031</td> <td>   -4.683</td> <td> 0.000</td> <td>   -0.203</td> <td>   -0.083</td>\n",
       "</tr>\n",
       "<tr>\n",
       "  <th>relpersn</th>  <td>   -1.4474</td> <td>    0.070</td> <td>  -20.743</td> <td> 0.000</td> <td>   -1.584</td> <td>   -1.311</td>\n",
       "</tr>\n",
       "</table>"
      ],
      "text/latex": [
       "\\begin{center}\n",
       "\\begin{tabular}{lclc}\n",
       "\\toprule\n",
       "\\textbf{Dep. Variable:}   &     attend1      & \\textbf{  No. Observations:  } &     2963    \\\\\n",
       "\\textbf{Model:}           &      Logit       & \\textbf{  Df Residuals:      } &     2960    \\\\\n",
       "\\textbf{Method:}          &       MLE        & \\textbf{  Df Model:          } &        2    \\\\\n",
       "\\textbf{Date:}            & Sun, 26 Nov 2023 & \\textbf{  Pseudo R-squ.:     } &   0.2040    \\\\\n",
       "\\textbf{Time:}            &     01:31:05     & \\textbf{  Log-Likelihood:    } &   -1354.6   \\\\\n",
       "\\textbf{converged:}       &       True       & \\textbf{  LL-Null:           } &   -1701.7   \\\\\n",
       "\\textbf{Covariance Type:} &    nonrobust     & \\textbf{  LLR p-value:       } & 1.684e-151  \\\\\n",
       "\\bottomrule\n",
       "\\end{tabular}\n",
       "\\begin{tabular}{lcccccc}\n",
       "                   & \\textbf{coef} & \\textbf{std err} & \\textbf{z} & \\textbf{P$> |$z$|$} & \\textbf{[0.025} & \\textbf{0.975]}  \\\\\n",
       "\\midrule\n",
       "\\textbf{Intercept} &       2.2655  &        0.153     &    14.823  &         0.000        &        1.966    &        2.565     \\\\\n",
       "\\textbf{marital}   &      -0.1430  &        0.031     &    -4.683  &         0.000        &       -0.203    &       -0.083     \\\\\n",
       "\\textbf{relpersn}  &      -1.4474  &        0.070     &   -20.743  &         0.000        &       -1.584    &       -1.311     \\\\\n",
       "\\bottomrule\n",
       "\\end{tabular}\n",
       "%\\caption{Logit Regression Results}\n",
       "\\end{center}"
      ],
      "text/plain": [
       "<class 'statsmodels.iolib.summary.Summary'>\n",
       "\"\"\"\n",
       "                           Logit Regression Results                           \n",
       "==============================================================================\n",
       "Dep. Variable:                attend1   No. Observations:                 2963\n",
       "Model:                          Logit   Df Residuals:                     2960\n",
       "Method:                           MLE   Df Model:                            2\n",
       "Date:                Sun, 26 Nov 2023   Pseudo R-squ.:                  0.2040\n",
       "Time:                        01:31:05   Log-Likelihood:                -1354.6\n",
       "converged:                       True   LL-Null:                       -1701.7\n",
       "Covariance Type:            nonrobust   LLR p-value:                1.684e-151\n",
       "==============================================================================\n",
       "                 coef    std err          z      P>|z|      [0.025      0.975]\n",
       "------------------------------------------------------------------------------\n",
       "Intercept      2.2655      0.153     14.823      0.000       1.966       2.565\n",
       "marital       -0.1430      0.031     -4.683      0.000      -0.203      -0.083\n",
       "relpersn      -1.4474      0.070    -20.743      0.000      -1.584      -1.311\n",
       "==============================================================================\n",
       "\"\"\""
      ]
     },
     "execution_count": 44,
     "metadata": {},
     "output_type": "execute_result"
    }
   ],
   "source": [
    "logit1 = sm.formula.logit(formula = \"attend1 ~ marital + relpersn\", data = df).fit()\n",
    "logit1.summary()"
   ]
  },
  {
   "cell_type": "markdown",
   "id": "cf0ddf92",
   "metadata": {},
   "source": [
    "### Pseudo R-square=0.204, means about 20.4% of the variance in the attend1 is explained by the independent variable marital and relpersn. Marital coeff = -0.1430, it presents that the change in the log-odds of attend1 for one-unit change in the marital variable and has a negative relationship between marital and attend1. Additional one unit increased on marital, constant the relpersn, ppl will decrease their attend frequeny on attending religious service with 0.143 unit at statistically significant level. Relpersn coeff = -1.4474, it presents that the change in the log-odds of attend1 for one-unit change in the relpersn variable and has a negative relationship between relpersn and attend1. Additional one unit increased on relpersn, constant the marital, ppl will decrease their attend frequeny on attending religious service with 1.4474 unit at statistically significant level.  In conclusion, this regression presented a same idea as the previous one that married people will more likley attend religious service also a very religious person will more likley attend religious service than someone who are not. "
   ]
  },
  {
   "cell_type": "markdown",
   "id": "fb5f4b03",
   "metadata": {},
   "source": [
    "# 3. Get odds ratios from your logit model in Question 2 and interpret some of them."
   ]
  },
  {
   "cell_type": "code",
   "execution_count": 45,
   "id": "e8c86604",
   "metadata": {
    "scrolled": true
   },
   "outputs": [
    {
     "data": {
      "text/plain": [
       "Intercept    9.636002\n",
       "marital      0.866736\n",
       "relpersn     0.235187\n",
       "dtype: float64"
      ]
     },
     "execution_count": 45,
     "metadata": {},
     "output_type": "execute_result"
    }
   ],
   "source": [
    "np.exp(logit1.params)"
   ]
  },
  {
   "cell_type": "markdown",
   "id": "a41756d1",
   "metadata": {},
   "source": [
    "### These are the odds-ratios, so you can see that for people who tend to not being married, the odds that they will be go to religious service goes down by 13.4%, net of other factors; for people who tend to consider themselves as not a religious person, the odds that they will be go to religious service goes down by 76.5%, net of other factors. In this case, it shown that higher values of 'maritals' and 'relpersn' are associated with a decrease in the odds of 'attend1' being 1. "
   ]
  },
  {
   "cell_type": "markdown",
   "id": "a7239935",
   "metadata": {},
   "source": [
    "# 4. Extra Credit: Get predicted probabilities from your logit model in Question 2 for some constellations of X values and interpret the results."
   ]
  },
  {
   "cell_type": "code",
   "execution_count": 46,
   "id": "5d1f9a96",
   "metadata": {},
   "outputs": [],
   "source": [
    "def logit2 (logit):\n",
    "    odds = np.exp(logit)\n",
    "    prob = odds / (1 + odds)\n",
    "    return (prob);\n",
    "\n",
    "intercept = logit1.params.Intercept\n",
    "b_marital = logit1.params.marital\n",
    "b_relpersn = logit1.params.relpersn"
   ]
  },
  {
   "cell_type": "code",
   "execution_count": 47,
   "id": "5062307d",
   "metadata": {},
   "outputs": [
    {
     "data": {
      "text/plain": [
       "0.2576331147097901"
      ]
     },
     "execution_count": 47,
     "metadata": {},
     "output_type": "execute_result"
    }
   ],
   "source": [
    "# representative value for all xs\n",
    "logits_attend = intercept + (3 * b_marital) + (2 * b_relpersn)\n",
    "logit2(logits_attend)"
   ]
  },
  {
   "cell_type": "markdown",
   "id": "43ebc8e7",
   "metadata": {},
   "source": [
    "### someone who is divoced and consider themselves as a moderately religious person, has 25.76% probability of attending religious service oftenly, like at leaset every week or even more. "
   ]
  },
  {
   "cell_type": "code",
   "execution_count": 52,
   "id": "dac7d1f1",
   "metadata": {},
   "outputs": [
    {
     "data": {
      "text/plain": [
       "0.31598945767056746"
      ]
     },
     "execution_count": 52,
     "metadata": {},
     "output_type": "execute_result"
    }
   ],
   "source": [
    "# representative value for all xs\n",
    "logits_attend = intercept + (1 * b_marital) + (2 * b_relpersn)\n",
    "logit2(logits_attend)"
   ]
  },
  {
   "cell_type": "markdown",
   "id": "09f71685",
   "metadata": {},
   "source": [
    "### someone who is married and consider themselves as a moderately religious person, has 31.60% probability of attending religious service oftenly, like at leaset every week or even more. Compared with someone who is divoced, married group have higher probability to attend religious service with high frequency."
   ]
  },
  {
   "cell_type": "code",
   "execution_count": null,
   "id": "f7afee38",
   "metadata": {},
   "outputs": [],
   "source": []
  }
 ],
 "metadata": {
  "kernelspec": {
   "display_name": "Python 3 (ipykernel)",
   "language": "python",
   "name": "python3"
  },
  "language_info": {
   "codemirror_mode": {
    "name": "ipython",
    "version": 3
   },
   "file_extension": ".py",
   "mimetype": "text/x-python",
   "name": "python",
   "nbconvert_exporter": "python",
   "pygments_lexer": "ipython3",
   "version": "3.11.4"
  }
 },
 "nbformat": 4,
 "nbformat_minor": 5
}
